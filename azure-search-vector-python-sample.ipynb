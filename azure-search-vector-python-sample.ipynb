{
 "cells": [
  {
   "attachments": {},
   "cell_type": "markdown",
   "metadata": {},
   "source": [
    "# Azure Cognitive Search Vector Search Code Sample with Azure OpenAI\n",
    "This code demonstrates how to use Azure Cognitive Search with OpenAI and Azure Python SDK\n",
    "## Prerequisites\n",
    "To run the code, install the following packages. "
   ]
  },
  {
   "cell_type": "code",
   "execution_count": null,
   "metadata": {},
   "outputs": [],
   "source": [
    "! pip install azure-search-documents==11.4.0b6\n",
    "! pip install python-dotenv\n",
    "! pip install pandas\n",
    "! pip install openai==0.28.1\n",
    "! pip install tenacity"
   ]
  },
  {
   "attachments": {},
   "cell_type": "markdown",
   "metadata": {},
   "source": [
    "## Import required libraries and environment variables"
   ]
  },
  {
   "cell_type": "code",
   "execution_count": 12,
   "metadata": {},
   "outputs": [],
   "source": [
    "# Import required libraries\n",
    "import os\n",
    "import json\n",
    "import uuid\n",
    "import openai\n",
    "import random\n",
    "import pandas as pd\n",
    "from dotenv import load_dotenv\n",
    "from tenacity import retry, wait_random_exponential, stop_after_attempt\n",
    "from azure.core.credentials import AzureKeyCredential\n",
    "from azure.search.documents import SearchClient\n",
    "from azure.search.documents.indexes import SearchIndexClient\n",
    "from azure.search.documents.models import Vector\n",
    "from azure.search.documents.indexes.models import (\n",
    "    SearchIndex,\n",
    "    SearchField,\n",
    "    SearchFieldDataType,\n",
    "    SimpleField,\n",
    "    SearchableField,\n",
    "    SearchIndex,\n",
    "    SemanticConfiguration,\n",
    "    PrioritizedFields,\n",
    "    SemanticField,\n",
    "    SearchField,\n",
    "    SemanticSettings,\n",
    "    VectorSearch,\n",
    "    VectorSearchAlgorithmConfiguration,\n",
    ")\n",
    "\n",
    "# Configure environment variables\n",
    "load_dotenv()\n",
    "service_endpoint = os.getenv(\"AZURE_SEARCH_SERVICE_ENDPOINT\")\n",
    "index_name = os.getenv(\"AZURE_SEARCH_INDEX_NAME\")\n",
    "key = os.getenv(\"AZURE_SEARCH_ADMIN_KEY\")\n",
    "credential = AzureKeyCredential(key)\n",
    "\n",
    "openai.api_type = \"azure\"\n",
    "openai.api_key = os.getenv(\"AZURE_OPENAI_API_KEY\")\n",
    "openai.api_base = os.getenv(\"AZURE_OPENAI_ENDPOINT\")\n",
    "openai.api_version = os.getenv(\"AZURE_OPENAI_API_VERSION\")"
   ]
  },
  {
   "cell_type": "code",
   "execution_count": 13,
   "metadata": {},
   "outputs": [],
   "source": [
    "@retry(wait=wait_random_exponential(min=1, max=20), stop=stop_after_attempt(6))\n",
    "def generate_embeddings(text):\n",
    "    response = openai.Embedding.create(input=text, engine=os.getenv(\"AZURE_OPENAI_EMBEDDING_ENGINE\"))\n",
    "    embeddings = response['data'][0]['embedding']\n",
    "    return embeddings"
   ]
  },
  {
   "attachments": {},
   "cell_type": "markdown",
   "metadata": {},
   "source": [
    "## Create your search index\n",
    "Create your search index schema and vector search configuration:"
   ]
  },
  {
   "cell_type": "code",
   "execution_count": 14,
   "metadata": {},
   "outputs": [
    {
     "name": "stdout",
     "output_type": "stream",
     "text": [
      " test-replica-issue created\n"
     ]
    }
   ],
   "source": [
    "# Create a search index\n",
    "index_client = SearchIndexClient(\n",
    "    endpoint=service_endpoint, credential=credential)\n",
    "fields = [\n",
    "    SimpleField(name=\"id\", type=SearchFieldDataType.String, key=True, sortable=True, filterable=True, facetable=True),\n",
    "    SimpleField(name=\"session_id\", type=SearchFieldDataType.String,filterable=True, retrievable=True),\n",
    "    SimpleField(name=\"content_order\", type=SearchFieldDataType.Int32, retrievable=True),\n",
    "    SearchableField(name=\"content\", type=SearchFieldDataType.String),\n",
    "    SearchField(name=\"content_vector\", type=SearchFieldDataType.Collection(SearchFieldDataType.Single),\n",
    "                searchable=True, vector_search_dimensions=1536, vector_search_configuration=\"my-vector-config\"),\n",
    "]\n",
    "\n",
    "vector_search = VectorSearch(\n",
    "    algorithm_configurations=[\n",
    "        VectorSearchAlgorithmConfiguration(\n",
    "            name=\"my-vector-config\",\n",
    "            kind=\"hnsw\",\n",
    "            hnsw_parameters={\n",
    "                \"m\": 4,\n",
    "                \"efConstruction\": 400,\n",
    "                \"efSearch\": 500,\n",
    "                \"metric\": \"cosine\"\n",
    "            }\n",
    "        )\n",
    "    ]\n",
    ")\n",
    "\n",
    "# Create the search index with the semantic settings\n",
    "index = SearchIndex(name=index_name, fields=fields, vector_search=vector_search)\n",
    "result = index_client.create_or_update_index(index)\n",
    "print(f' {result.name} created')\n"
   ]
  },
  {
   "attachments": {},
   "cell_type": "markdown",
   "metadata": {},
   "source": [
    "## Insert text and embeddings into vector store multiple times \n",
    "Add texts and metadata from the JSON data to the vector store:"
   ]
  },
  {
   "cell_type": "code",
   "execution_count": 15,
   "metadata": {},
   "outputs": [
    {
     "name": "stdout",
     "output_type": "stream",
     "text": [
      "Uploaded 108 documents for session 64f63550-e843-424a-8313-19fa4cf90a95\n",
      "Uploaded 108 documents for session 076283e3-cdf3-4ce9-8e73-7c7594b34356\n",
      "Uploaded 108 documents for session 7ce6d7a5-a404-4df8-a228-62483faac015\n",
      "Uploaded 108 documents for session 4e0e0684-aa37-4826-b6dc-4f13c552a821\n",
      "Uploaded 108 documents for session d0cbf3af-ecd4-449d-9448-17cbb39f2c4d\n",
      "Uploaded 108 documents for session de419e2e-45a9-4f2b-b729-b8e429254e43\n",
      "Uploaded 108 documents for session 86b98ae2-cdec-486d-8e3d-e0bb4e29cb45\n",
      "Uploaded 108 documents for session 430605a6-2094-48f5-9f7f-de6f45face9f\n",
      "Uploaded 108 documents for session fafdb69f-310c-437c-ab92-24d69ec64565\n",
      "Uploaded 108 documents for session e4f31425-032b-45c3-aa5d-db1cc9ff0633\n",
      "Uploaded 108 documents for session 9a4970c9-b88a-47ed-bc59-80194ddbadfb\n",
      "Uploaded 108 documents for session 71d35159-a5c0-496f-94d6-3450789a5cf6\n",
      "Uploaded 108 documents for session bb21a287-0135-4a53-8faf-97205709b508\n",
      "Uploaded 108 documents for session b6f116d9-0783-4d6a-b39e-11748ef400f4\n",
      "Uploaded 108 documents for session 63c2532a-3846-4c3e-80df-1f7f7922254e\n",
      "Uploaded 108 documents for session be88bcd8-b00a-4b30-b84e-8270ba9e770a\n",
      "Uploaded 108 documents for session 45e393d8-a78d-4d59-a601-f85958c75b4d\n",
      "Uploaded 108 documents for session 1eae3431-7149-456f-945e-a54f4b3721f1\n",
      "Uploaded 108 documents for session 830d17c0-f3d4-458b-b520-3e07b2329146\n",
      "Uploaded 108 documents for session 87f364a1-34b2-466d-aed9-c6228e85ba16\n",
      "Uploaded 108 documents for session e2f837f6-2745-4aef-a359-11af2f035c8e\n",
      "Uploaded 108 documents for session 1ce40e0c-48dd-409f-a3fa-e2f8535d9d14\n",
      "Uploaded 108 documents for session 5e487006-5de9-47c3-ae55-ccb70f630639\n",
      "Uploaded 108 documents for session 600042c5-d683-4c80-9509-73a460d27f2f\n",
      "Uploaded 108 documents for session fcd97a1f-e0e8-4fde-b306-364267bf0bd9\n",
      "Uploaded 108 documents for session 6916f1b3-7c45-4d65-9093-9431dc8e8614\n",
      "Uploaded 108 documents for session 1910f025-1f54-4d66-bbf2-04278945e470\n",
      "Uploaded 108 documents for session 99f483ff-c3c0-4311-90c1-d92cd4428946\n",
      "Uploaded 108 documents for session 88e54d4d-7732-403f-8053-cb1c6d8849fd\n",
      "Uploaded 108 documents for session fb1dbe4e-b3e6-419f-9b2d-d42e8957520b\n",
      "Uploaded 108 documents for session 92921fed-4537-4503-97e1-1b76acd25d3f\n",
      "Uploaded 108 documents for session 249a26f3-d04c-449b-88b8-f7d4e951e052\n",
      "Uploaded 108 documents for session 179e6e14-7ee2-403b-b43c-0e60e4c8eb33\n",
      "Uploaded 108 documents for session 0ecc69df-5edd-4dd2-ad75-522652f25ba1\n",
      "Uploaded 108 documents for session 92d884e3-1542-4996-9f54-0c2c3432d7f6\n",
      "Uploaded 108 documents for session 983e5fd1-da19-44f6-bb25-1a3e0fb54391\n",
      "Uploaded 108 documents for session 41e29d3d-19f4-47b5-9a51-3216e5a83f81\n",
      "Uploaded 108 documents for session a59a1843-85d2-47b8-a304-cbb3eb81c8a9\n",
      "Uploaded 108 documents for session 7f53fca3-7b29-4ce3-9698-0df20df81658\n",
      "Uploaded 108 documents for session bcf965ec-c86b-42ac-8e95-572c6ad4e725\n",
      "Uploaded 108 documents for session b41c0e71-f789-48cd-a7ba-1d7e0c7d32dc\n",
      "Uploaded 108 documents for session 93f3c324-e5de-4101-ad6a-9dbaa30e57db\n",
      "Uploaded 108 documents for session 4b675b53-65e7-4d1a-9065-e17f7ec2f105\n",
      "Uploaded 108 documents for session 347ff021-da18-4307-a01b-197988169d02\n",
      "Uploaded 108 documents for session 4f28720d-945a-4e37-b636-fa3d82896a5e\n",
      "Uploaded 108 documents for session d11f86d5-f660-435b-8510-9dc5855eb569\n",
      "Uploaded 108 documents for session bf8ab2fd-867c-4e0e-8986-50b3fb253ea5\n",
      "Uploaded 108 documents for session 7e7b3f3e-71e9-48fe-bedd-54e3cf40648c\n",
      "Uploaded 108 documents for session a9daff72-7846-4fef-88ac-eb04a0fd4b60\n",
      "Uploaded 108 documents for session ca294a05-e187-4d6a-b7b9-09f97d341edf\n",
      "Uploaded 108 documents for session bf2a9cb4-bd91-4c69-9fcf-3f72d87fbb0b\n",
      "Uploaded 108 documents for session 14fbfc05-2815-4aae-a85f-a076921faab4\n",
      "Uploaded 108 documents for session 7c17ddd1-6158-4597-9225-5b77079e937d\n",
      "Uploaded 108 documents for session 344b3335-55e9-4d20-b41e-2d9f8a5ab012\n",
      "Uploaded 108 documents for session 1dbc0e79-52f5-4153-a433-c08c35caac0c\n",
      "Uploaded 108 documents for session 90b803bc-0d48-4ffb-a241-9d0fd7496833\n",
      "Uploaded 108 documents for session 0a034bdb-79d3-4cd5-a49b-2b622cb3ef8b\n",
      "Uploaded 108 documents for session 3f68f9b8-1465-46fa-960b-7a8d6d3b609e\n",
      "Uploaded 108 documents for session 7c563e22-68c1-4730-aa15-f0828a00a1e6\n",
      "Uploaded 108 documents for session 417fa32c-214e-489f-adec-39e87330131e\n",
      "Uploaded 108 documents for session 782b0caa-0099-4059-8320-ab99bf8d87e8\n",
      "Uploaded 108 documents for session c09d27cd-39f8-45da-998a-9cfe9493489b\n",
      "Uploaded 108 documents for session 3acdbd26-889f-4b30-a03e-d4c6e4de9f16\n",
      "Uploaded 108 documents for session eea80513-ee8d-4b68-8d91-b92d172a3cc0\n",
      "Uploaded 108 documents for session bccdca01-c12d-4dcd-83f5-7515e890802e\n",
      "Uploaded 108 documents for session 6dc3d15b-9908-440f-8253-065205dc96c5\n",
      "Uploaded 108 documents for session 8a2635b5-9b8b-4be0-886e-c5a2837a2856\n",
      "Uploaded 108 documents for session 6fb6d57c-654a-421c-ace8-fd6fefafe00e\n",
      "Uploaded 108 documents for session e44bec6f-7c99-4b13-bf18-4e0b75ad7129\n",
      "Uploaded 108 documents for session 22104f53-95f0-46db-aa83-b64ac1acfc54\n",
      "Uploaded 108 documents for session 30959f8c-9b94-432e-b10a-0f18015f7aa9\n",
      "Uploaded 108 documents for session fc4232f5-c04d-4558-8341-c07abfbff73a\n",
      "Uploaded 108 documents for session 65ee2fcc-47d3-4473-b3f7-85281f0f7958\n",
      "Uploaded 108 documents for session 35f7489b-c082-4248-b530-4baaf900e206\n",
      "Uploaded 108 documents for session 0cd320e4-b9e9-453e-9479-76e405f2356a\n",
      "Uploaded 108 documents for session f16e6863-a62c-4c8f-9ccb-5140f8b9aee6\n",
      "Uploaded 108 documents for session d86f1204-0efa-4eb1-bc76-dc247d420edb\n",
      "Uploaded 108 documents for session f602159c-18e6-4264-b228-989bfd04365b\n",
      "Uploaded 108 documents for session 127ed980-28dd-4c97-8fbf-9be0fedaec12\n",
      "Uploaded 108 documents for session 944a317d-c272-4369-90b1-0e8756f2aa55\n",
      "Uploaded 108 documents for session 9f28f240-598e-44dd-82b0-97f2f4eeae7b\n",
      "Uploaded 108 documents for session 5847378c-28c5-4bb2-94d1-0a5b2f3703b3\n",
      "Uploaded 108 documents for session 420c6e38-66ce-4e19-942f-2d57cd345e4c\n",
      "Uploaded 108 documents for session 8598687b-6b3d-4cf5-8f27-23888dbc263e\n",
      "Uploaded 108 documents for session ef22debe-6aba-495a-8c8c-96bd72bed22f\n",
      "Uploaded 108 documents for session 2f587946-4ff5-462c-b5db-401b771e39d9\n",
      "Uploaded 108 documents for session 0883fc57-d371-45c2-9d36-ad3254863a25\n",
      "Uploaded 108 documents for session 9831a704-5e30-4d2c-8b89-c44e9690ccdb\n",
      "Uploaded 108 documents for session 941e5214-c8b6-42ed-8750-c4d781c0f76f\n",
      "Uploaded 108 documents for session e34dd574-7c55-4f91-a82c-a088e3ece957\n",
      "Uploaded 108 documents for session 41dea0b4-323c-462a-a59f-06d63a4909a8\n",
      "Uploaded 108 documents for session 81ffe9fe-27f5-40b6-bc07-229ce854001a\n",
      "Uploaded 108 documents for session 7d1efc12-d1d7-46b0-a85f-1f72706c27d8\n",
      "Uploaded 108 documents for session e5e0cde2-df61-460c-a755-975ba0211bb3\n",
      "Uploaded 108 documents for session 633d2119-8a0b-443e-90be-db98ddf7de3a\n",
      "Uploaded 108 documents for session 46e78e28-8463-4184-90c4-16eadf9894b6\n",
      "Uploaded 108 documents for session 0da302a4-dead-4182-b880-8f2d2e7b8dda\n",
      "Uploaded 108 documents for session 3b0883bf-9496-4bc8-8d00-50a71ab719aa\n",
      "Uploaded 108 documents for session 5aa5c67a-c6fd-42b2-b255-e9b68a7db0aa\n",
      "Uploaded 108 documents for session ab76d788-e8c3-4848-8bb2-44f8e8cf2703\n"
     ]
    }
   ],
   "source": [
    "with open('input_data.json', 'r', encoding='utf-8') as file:\n",
    "    base_documents = json.load(file)\n",
    "\n",
    "session_ids = []\n",
    "search_client = SearchClient(endpoint=service_endpoint, index_name=index_name, credential=credential)\n",
    "for i in range(100):\n",
    "    session_id = str(uuid.uuid4())\n",
    "    documents = base_documents\n",
    "    for document in documents:\n",
    "        document['id'] = str(uuid.uuid4())\n",
    "        document['session_id'] = session_id\n",
    "\n",
    "    result = search_client.upload_documents(documents)\n",
    "    print(f\"Uploaded {len(documents)} documents for session {session_id}\")\n",
    "    session_ids.append(session_id)"
   ]
  },
  {
   "attachments": {},
   "cell_type": "markdown",
   "metadata": {},
   "source": [
    "### Below will pull one random session_id from above and try search 10 times to check is we getting consistent results\n",
    "\n",
    "### run below all block mutiple times if you are not see inconsistent results\n"
   ]
  },
  {
   "cell_type": "code",
   "execution_count": 18,
   "metadata": {},
   "outputs": [],
   "source": [
    "query = \"scalable storage solution\"\n",
    "query_embeddings = generate_embeddings(query)\n",
    "session_id = random.choice(session_ids)\n",
    "\n",
    "search_sticky_session_string = 'st-1203293293' # this is fix string for acs session_id"
   ]
  },
  {
   "cell_type": "markdown",
   "metadata": {},
   "source": [
    "## Perform a Hybrid Search without scoring_statistics & sticky session"
   ]
  },
  {
   "cell_type": "code",
   "execution_count": 20,
   "metadata": {},
   "outputs": [
    {
     "name": "stdout",
     "output_type": "stream",
     "text": [
      "session_id: 81ffe9fe-27f5-40b6-bc07-229ce854001a\n",
      "\n",
      "        0   1   2   3   4   5   6   7   8   9   10  11  12  13  14\n",
      "run_1    4  50  36  52  53  51  48   6  69  49  95  71  97  54  10\n",
      "run_2    4  50  36  52  53  51  48   6  69  49  95  71  97  54  10\n",
      "run_3    4  50  36  52  53  51  48   6  49  71  68  97  54  19  10\n",
      "run_4    4  50  36  52  53  51  48   6  69  49  95  71  97  54  10\n",
      "run_5    4  50  36  52  53  51  48   6  69  49  95  71  97  54  10\n",
      "run_6    4  50  36  52  53  51  48   6  69  49  95  71  97  54  10\n",
      "run_7    4  50  36  52  53  51  48   6  49  71  68  97  54  19  10\n",
      "run_8    4  50  36  52  53  51  48   6  69  49  95  71  97  54  10\n",
      "run_9    4  50  36  52  53  51  48   6  69  49  95  71  97  54  10\n",
      "run_10   4  50  36  52  53  51  48   6  69  49  95  71  97  54  10\n"
     ]
    }
   ],
   "source": [
    "# Hybrid Search\n",
    "search_client = SearchClient(service_endpoint, index_name, AzureKeyCredential(key))\n",
    "\n",
    "all_call_score_results = []\n",
    "all_call_content_results = []\n",
    "all_call_content_orders_results = []\n",
    "for i in range(10):\n",
    "    results = search_client.search(\n",
    "        search_text=query,\n",
    "        vector=query_embeddings, top_k=15,\n",
    "        vector_fields=\"content_vector\",\n",
    "        select=[\"content\", \"content_order\"],\n",
    "        filter=f\"session_id eq '{session_id}'\",\n",
    "        top=15,\n",
    "        #scoring_statistics=\"global\",\n",
    "        #session_id=search_sticky_session_string\n",
    "    )\n",
    "\n",
    "    results = list(results)\n",
    "    all_call_score_results.append([result['@search.score'] for result in results])\n",
    "    all_call_content_results.append([result['content'][:10] for result in results])\n",
    "    all_call_content_orders_results.append([result['content_order'] for result in results])\n",
    "\n",
    "\n",
    "print(f\"session_id: {session_id}\\n\")\n",
    "\n",
    "num_rows = len(all_call_content_orders_results)\n",
    "row_names = [f\"run_{i+1}\" for i in range(num_rows)]\n",
    "print(pd.DataFrame(all_call_content_orders_results, index=row_names))\n",
    "#print(pd.DataFrame(all_call_content_results,, index=row_names))\n",
    "#print(pd.DataFrame(all_call_score_results, index=row_names))"
   ]
  },
  {
   "cell_type": "markdown",
   "metadata": {},
   "source": [
    "## Perform a Hybrid Search with scoring_statistics "
   ]
  },
  {
   "cell_type": "code",
   "execution_count": 21,
   "metadata": {},
   "outputs": [
    {
     "name": "stdout",
     "output_type": "stream",
     "text": [
      "session_id: 81ffe9fe-27f5-40b6-bc07-229ce854001a\n",
      "\n",
      "        0   1   2   3   4   5   6   7   8   9   10  11  12  13  14\n",
      "run_1    4  50  36  52  53  51  48   6  49  71  68  97  54  19  10\n",
      "run_2    4  50  36  52  53  51  48   6  69  49  95  71  97  54  10\n",
      "run_3    4  50  36  52  53  51  48   6  69  49  95  71  97  54  10\n",
      "run_4    4  50  36  52  53  51  48   6  69  49  95  71  97  54  10\n",
      "run_5    4  50  36  52  53  51  48   6  49  71  68  97  54  19  10\n",
      "run_6    4  50  36  52  53  51  48   6  69  49  95  71  97  54  10\n",
      "run_7    4  50  36  52  53  51  48   6  69  49  95  71  97  54  10\n",
      "run_8    4  50  36  52  53  51  48   6  69  49  95  71  97  54  10\n",
      "run_9    4  50  36  52  53  51  48   6  49  71  68  97  54  19  10\n",
      "run_10   4  50  36  52  53  51  48   6  69  49  95  71  97  54  10\n"
     ]
    }
   ],
   "source": [
    "\n",
    "all_call_content_results = []\n",
    "all_call_content_orders_results = []\n",
    "for i in range(10):\n",
    "    results = search_client.search(\n",
    "        search_text=query,\n",
    "        vector=query_embeddings, top_k=15,\n",
    "        vector_fields=\"content_vector\",\n",
    "        select=[\"content\", \"content_order\"],\n",
    "        filter=f\"session_id eq '{session_id}'\",\n",
    "        top=15,\n",
    "        scoring_statistics=\"global\",\n",
    "        #session_id=search_sticky_session_string\n",
    "    )\n",
    "\n",
    "    results = list(results)\n",
    "    all_call_score_results.append([result['@search.score'] for result in results])\n",
    "    all_call_content_results.append([result['content'][:10] for result in results])\n",
    "    all_call_content_orders_results.append([result['content_order'] for result in results])\n",
    "\n",
    "\n",
    "print(f\"session_id: {session_id}\\n\")\n",
    "\n",
    "num_rows = len(all_call_content_orders_results)\n",
    "row_names = [f\"run_{i+1}\" for i in range(num_rows)]\n",
    "print(pd.DataFrame(all_call_content_orders_results, index=row_names))\n",
    "#print(pd.DataFrame(all_call_content_results,, index=row_names))\n",
    "#print(pd.DataFrame(all_call_score_results, index=row_names))"
   ]
  },
  {
   "cell_type": "markdown",
   "metadata": {},
   "source": [
    "## Perform a Hybrid Search with sticky session"
   ]
  },
  {
   "cell_type": "code",
   "execution_count": 22,
   "metadata": {},
   "outputs": [
    {
     "name": "stdout",
     "output_type": "stream",
     "text": [
      "session_id: 81ffe9fe-27f5-40b6-bc07-229ce854001a\n",
      "\n",
      "        0   1   2   3   4   5   6   7   8   9   10  11  12  13  14\n",
      "run_1    4  50  36  52  53  51  48   6  69  49  95  71  97  54  10\n",
      "run_2    4  50  36  52  53  51  48   6  69  49  95  71  97  54  10\n",
      "run_3    4  50  36  52  53  51  48   6  49  71  68  97  54  19  10\n",
      "run_4    4  50  36  52  53  51  48   6  69  49  95  71  97  54  10\n",
      "run_5    4  50  36  52  53  51  48   6  69  49  95  71  97  54  10\n",
      "run_6    4  50  36  52  53  51  48   6  69  49  95  71  97  54  10\n",
      "run_7    4  50  36  52  53  51  48   6  49  71  68  97  54  19  10\n",
      "run_8    4  50  36  52  53  51  48   6  69  49  95  71  97  54  10\n",
      "run_9    4  50  36  52  53  51  48   6  69  49  95  71  97  54  10\n",
      "run_10   4  50  36  52  53  51  48   6  69  49  95  71  97  54  10\n"
     ]
    }
   ],
   "source": [
    "\n",
    "all_call_content_results = []\n",
    "all_call_content_orders_results = []\n",
    "for i in range(10):\n",
    "    results = search_client.search(\n",
    "        search_text=query,\n",
    "        vector=query_embeddings, top_k=15,\n",
    "        vector_fields=\"content_vector\",\n",
    "        select=[\"content\", \"content_order\"],\n",
    "        filter=f\"session_id eq '{session_id}'\",\n",
    "        top=15,\n",
    "        #scoring_statistics=\"global\",\n",
    "        session_id=search_sticky_session_string\n",
    "    )\n",
    "\n",
    "    results = list(results)\n",
    "    all_call_score_results.append([result['@search.score'] for result in results])\n",
    "    all_call_content_results.append([result['content'][:10] for result in results])\n",
    "    all_call_content_orders_results.append([result['content_order'] for result in results])\n",
    "\n",
    "\n",
    "print(f\"session_id: {session_id}\\n\")\n",
    "\n",
    "num_rows = len(all_call_content_orders_results)\n",
    "row_names = [f\"run_{i+1}\" for i in range(num_rows)]\n",
    "print(pd.DataFrame(all_call_content_orders_results, index=row_names))\n",
    "#print(pd.DataFrame(all_call_content_results,, index=row_names))\n",
    "#print(pd.DataFrame(all_call_score_results, index=row_names))"
   ]
  },
  {
   "cell_type": "markdown",
   "metadata": {},
   "source": [
    "## Perform a Hybrid Search without scoring_statistics & sticky session"
   ]
  },
  {
   "cell_type": "code",
   "execution_count": 23,
   "metadata": {},
   "outputs": [
    {
     "name": "stdout",
     "output_type": "stream",
     "text": [
      "session_id: 81ffe9fe-27f5-40b6-bc07-229ce854001a\n",
      "\n",
      "        0   1   2   3   4   5   6   7   8   9   10  11  12  13  14\n",
      "run_1    4  50  36  52  53  51  48   6  49  71  68  97  54  19  10\n",
      "run_2    4  50  36  52  53  51  48   6  69  49  95  71  97  54  10\n",
      "run_3    4  50  36  52  53  51  48   6  69  49  95  71  97  54  10\n",
      "run_4    4  50  36  52  53  51  48   6  69  49  95  71  97  54  10\n",
      "run_5    4  50  36  52  53  51  48   6  49  71  68  97  54  19  10\n",
      "run_6    4  50  36  52  53  51  48   6  69  49  95  71  97  54  10\n",
      "run_7    4  50  36  52  53  51  48   6  69  49  95  71  97  54  10\n",
      "run_8    4  50  36  52  53  51  48   6  69  49  95  71  97  54  10\n",
      "run_9    4  50  36  52  53  51  48   6  49  71  68  97  54  19  10\n",
      "run_10   4  50  36  52  53  51  48   6  69  49  95  71  97  54  10\n"
     ]
    }
   ],
   "source": [
    "\n",
    "all_call_content_results = []\n",
    "all_call_content_orders_results = []\n",
    "for i in range(10):\n",
    "    results = search_client.search(\n",
    "        search_text=query,\n",
    "        vector=query_embeddings, top_k=15,\n",
    "        vector_fields=\"content_vector\",\n",
    "        select=[\"content\", \"content_order\"],\n",
    "        filter=f\"session_id eq '{session_id}'\",\n",
    "        top=15,\n",
    "        scoring_statistics=\"global\",\n",
    "        session_id=search_sticky_session_string\n",
    "    )\n",
    "\n",
    "    results = list(results)\n",
    "    all_call_score_results.append([result['@search.score'] for result in results])\n",
    "    all_call_content_results.append([result['content'][:10] for result in results])\n",
    "    all_call_content_orders_results.append([result['content_order'] for result in results])\n",
    "\n",
    "\n",
    "print(f\"session_id: {session_id}\\n\")\n",
    "\n",
    "num_rows = len(all_call_content_orders_results)\n",
    "row_names = [f\"run_{i+1}\" for i in range(num_rows)]\n",
    "print(pd.DataFrame(all_call_content_orders_results, index=row_names))\n",
    "#print(pd.DataFrame(all_call_content_results,, index=row_names))\n",
    "#print(pd.DataFrame(all_call_score_results, index=row_names))"
   ]
  },
  {
   "cell_type": "markdown",
   "metadata": {},
   "source": []
  }
 ],
 "metadata": {
  "kernelspec": {
   "display_name": "Python 3",
   "language": "python",
   "name": "python3"
  },
  "language_info": {
   "codemirror_mode": {
    "name": "ipython",
    "version": 3
   },
   "file_extension": ".py",
   "mimetype": "text/x-python",
   "name": "python",
   "nbconvert_exporter": "python",
   "pygments_lexer": "ipython3",
   "version": "3.9.13"
  },
  "orig_nbformat": 4
 },
 "nbformat": 4,
 "nbformat_minor": 2
}
